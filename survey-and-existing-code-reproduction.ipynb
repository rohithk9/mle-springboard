{
 "cells": [
  {
   "cell_type": "code",
   "execution_count": 32,
   "id": "0228b24e",
   "metadata": {},
   "outputs": [
    {
     "name": "stdout",
     "output_type": "stream",
     "text": [
      "Requirement already satisfied: scikit-surprise in /Users/rohitkulkarni/anaconda3/lib/python3.11/site-packages (1.1.4)\r\n",
      "Requirement already satisfied: joblib>=1.2.0 in /Users/rohitkulkarni/anaconda3/lib/python3.11/site-packages (from scikit-surprise) (1.2.0)\r\n",
      "Requirement already satisfied: numpy>=1.19.5 in /Users/rohitkulkarni/anaconda3/lib/python3.11/site-packages (from scikit-surprise) (1.24.3)\r\n",
      "Requirement already satisfied: scipy>=1.6.0 in /Users/rohitkulkarni/anaconda3/lib/python3.11/site-packages (from scikit-surprise) (1.10.1)\r\n"
     ]
    }
   ],
   "source": [
    "!pip install scikit-surprise"
   ]
  },
  {
   "cell_type": "code",
   "execution_count": 33,
   "id": "b0df7241",
   "metadata": {},
   "outputs": [],
   "source": [
    "import pandas as pd\n",
    "from googleapiclient.discovery import build\n",
    "from google_auth_oauthlib.flow import InstalledAppFlow\n",
    "from google.auth.transport.requests import Request\n",
    "import os\n",
    "import pickle\n",
    "import io\n",
    "from googleapiclient.http import MediaIoBaseDownload\n",
    "import matplotlib.pyplot as plt\n",
    "import seaborn as sns\n",
    "import numpy as np\n",
    "from surprise.model_selection import cross_validate\n",
    "from surprise.prediction_algorithms import SVD\n",
    "from surprise.prediction_algorithms import KNNWithMeans, KNNBasic, KNNBaseline\n",
    "from surprise.model_selection import train_test_split\n",
    "from surprise.model_selection import GridSearchCV\n",
    "from surprise.similarities import pearson\n",
    "from surprise import Dataset, Reader\n",
    "from surprise import accuracy\n",
    "from sklearn.metrics import mean_squared_error"
   ]
  },
  {
   "cell_type": "code",
   "execution_count": 11,
   "id": "1a1ba30d",
   "metadata": {},
   "outputs": [
    {
     "name": "stdout",
     "output_type": "stream",
     "text": [
      "Please visit this URL to authorize this application: https://accounts.google.com/o/oauth2/auth?response_type=code&client_id=931696450107-uflia2gbnmg8q3gquonhp4llip5jkp3p.apps.googleusercontent.com&redirect_uri=http%3A%2F%2Flocalhost%3A63805%2F&scope=https%3A%2F%2Fwww.googleapis.com%2Fauth%2Fdrive&state=8H8fciYWwprFx56E8rKCbjaotJ1crp&access_type=offline\n"
     ]
    }
   ],
   "source": [
    "# Scopes for the Google Drive API\n",
    "SCOPES = ['https://www.googleapis.com/auth/drive']\n",
    "\n",
    "def authenticate_google_drive():\n",
    "    creds = None\n",
    "    if os.path.exists('token.pickle'):\n",
    "        with open('token.pickle', 'rb') as token:\n",
    "            creds = pickle.load(token)\n",
    "    if not creds or not creds.valid:\n",
    "        if creds and creds.expired and creds.refresh_token:\n",
    "            creds.refresh(Request())\n",
    "        else:\n",
    "            flow = InstalledAppFlow.from_client_secrets_file(\n",
    "                'new_client_id.json', SCOPES)\n",
    "            creds = flow.run_local_server(port=0)\n",
    "        # Save the credentials for the next run\n",
    "        with open('token.pickle', 'wb') as token:\n",
    "            pickle.dump(creds, token)\n",
    "\n",
    "    service = build('drive', 'v3', credentials=creds)\n",
    "    return service\n",
    "\n",
    "drive_service = authenticate_google_drive()\n",
    "\n",
    "def download_file(file_id, file_name):\n",
    "    request = drive_service.files().get_media(fileId=file_id)\n",
    "    fh = io.FileIO(file_name, 'wb')\n",
    "    downloader = MediaIoBaseDownload(fh, request)\n",
    "    done = False\n",
    "    while done is False:\n",
    "        status, done = downloader.next_chunk()\n",
    "        print(f\"Download {int(status.progress() * 100)}%.\")"
   ]
  },
  {
   "cell_type": "code",
   "execution_count": 14,
   "id": "9698631a",
   "metadata": {},
   "outputs": [
    {
     "name": "stdout",
     "output_type": "stream",
     "text": [
      "Download 52%.\n",
      "Download 100%.\n"
     ]
    }
   ],
   "source": [
    "file_id = '1039e61fo7FSjobH-u9B-xOT62Abw4GLF'\n",
    "file_name = 'ba_reviews.csv'\n",
    "download_file(file_id, file_name)\n",
    "\n",
    "df = pd.read_csv(file_name)"
   ]
  },
  {
   "cell_type": "code",
   "execution_count": 15,
   "id": "b015c4bd",
   "metadata": {},
   "outputs": [
    {
     "data": {
      "text/html": [
       "<div>\n",
       "<style scoped>\n",
       "    .dataframe tbody tr th:only-of-type {\n",
       "        vertical-align: middle;\n",
       "    }\n",
       "\n",
       "    .dataframe tbody tr th {\n",
       "        vertical-align: top;\n",
       "    }\n",
       "\n",
       "    .dataframe thead th {\n",
       "        text-align: right;\n",
       "    }\n",
       "</style>\n",
       "<table border=\"1\" class=\"dataframe\">\n",
       "  <thead>\n",
       "    <tr style=\"text-align: right;\">\n",
       "      <th></th>\n",
       "      <th>review_profilename</th>\n",
       "      <th>beer_beerid</th>\n",
       "      <th>review_time</th>\n",
       "      <th>review_overall</th>\n",
       "    </tr>\n",
       "  </thead>\n",
       "  <tbody>\n",
       "    <tr>\n",
       "      <th>0</th>\n",
       "      <td>stcules</td>\n",
       "      <td>47986</td>\n",
       "      <td>1234817823</td>\n",
       "      <td>1.5</td>\n",
       "    </tr>\n",
       "    <tr>\n",
       "      <th>1</th>\n",
       "      <td>stcules</td>\n",
       "      <td>48213</td>\n",
       "      <td>1235915097</td>\n",
       "      <td>3.0</td>\n",
       "    </tr>\n",
       "    <tr>\n",
       "      <th>2</th>\n",
       "      <td>stcules</td>\n",
       "      <td>48215</td>\n",
       "      <td>1235916604</td>\n",
       "      <td>3.0</td>\n",
       "    </tr>\n",
       "    <tr>\n",
       "      <th>3</th>\n",
       "      <td>stcules</td>\n",
       "      <td>47969</td>\n",
       "      <td>1234725145</td>\n",
       "      <td>3.0</td>\n",
       "    </tr>\n",
       "    <tr>\n",
       "      <th>4</th>\n",
       "      <td>johnmichaelsen</td>\n",
       "      <td>64883</td>\n",
       "      <td>1293735206</td>\n",
       "      <td>4.0</td>\n",
       "    </tr>\n",
       "  </tbody>\n",
       "</table>\n",
       "</div>"
      ],
      "text/plain": [
       "  review_profilename  beer_beerid  review_time  review_overall\n",
       "0            stcules        47986   1234817823             1.5\n",
       "1            stcules        48213   1235915097             3.0\n",
       "2            stcules        48215   1235916604             3.0\n",
       "3            stcules        47969   1234725145             3.0\n",
       "4     johnmichaelsen        64883   1293735206             4.0"
      ]
     },
     "execution_count": 15,
     "metadata": {},
     "output_type": "execute_result"
    }
   ],
   "source": [
    "# Drop all columns not needed for surprise collaberative filtering modeling from the beer reviews df\n",
    "df = df[['review_profilename','beer_beerid','review_time','review_overall']]\n",
    "df.head()"
   ]
  },
  {
   "cell_type": "code",
   "execution_count": 16,
   "id": "1cf860d4",
   "metadata": {},
   "outputs": [
    {
     "name": "stdout",
     "output_type": "stream",
     "text": [
      "<class 'pandas.core.frame.DataFrame'>\n",
      "Int64Index: 1586266 entries, 0 to 1586613\n",
      "Data columns (total 4 columns):\n",
      " #   Column              Non-Null Count    Dtype  \n",
      "---  ------              --------------    -----  \n",
      " 0   review_profilename  1586266 non-null  object \n",
      " 1   beer_beerid         1586266 non-null  int64  \n",
      " 2   review_time         1586266 non-null  int64  \n",
      " 3   review_overall      1586266 non-null  float64\n",
      "dtypes: float64(1), int64(2), object(1)\n",
      "memory usage: 60.5+ MB\n"
     ]
    }
   ],
   "source": [
    "df.dropna(axis=0, how='any', inplace=True)\n",
    "df.info()"
   ]
  },
  {
   "cell_type": "code",
   "execution_count": 17,
   "id": "9b3fcb97",
   "metadata": {},
   "outputs": [
    {
     "data": {
      "text/html": [
       "<div>\n",
       "<style scoped>\n",
       "    .dataframe tbody tr th:only-of-type {\n",
       "        vertical-align: middle;\n",
       "    }\n",
       "\n",
       "    .dataframe tbody tr th {\n",
       "        vertical-align: top;\n",
       "    }\n",
       "\n",
       "    .dataframe thead th {\n",
       "        text-align: right;\n",
       "    }\n",
       "</style>\n",
       "<table border=\"1\" class=\"dataframe\">\n",
       "  <thead>\n",
       "    <tr style=\"text-align: right;\">\n",
       "      <th></th>\n",
       "      <th>review_profilename</th>\n",
       "      <th>beer_beerid</th>\n",
       "      <th>review_time</th>\n",
       "      <th>review_overall</th>\n",
       "    </tr>\n",
       "  </thead>\n",
       "  <tbody>\n",
       "    <tr>\n",
       "      <th>0</th>\n",
       "      <td>stcules</td>\n",
       "      <td>47986</td>\n",
       "      <td>1234817823</td>\n",
       "      <td>3</td>\n",
       "    </tr>\n",
       "    <tr>\n",
       "      <th>1</th>\n",
       "      <td>stcules</td>\n",
       "      <td>48213</td>\n",
       "      <td>1235915097</td>\n",
       "      <td>6</td>\n",
       "    </tr>\n",
       "    <tr>\n",
       "      <th>2</th>\n",
       "      <td>stcules</td>\n",
       "      <td>48215</td>\n",
       "      <td>1235916604</td>\n",
       "      <td>6</td>\n",
       "    </tr>\n",
       "    <tr>\n",
       "      <th>3</th>\n",
       "      <td>stcules</td>\n",
       "      <td>47969</td>\n",
       "      <td>1234725145</td>\n",
       "      <td>6</td>\n",
       "    </tr>\n",
       "    <tr>\n",
       "      <th>4</th>\n",
       "      <td>johnmichaelsen</td>\n",
       "      <td>64883</td>\n",
       "      <td>1293735206</td>\n",
       "      <td>8</td>\n",
       "    </tr>\n",
       "  </tbody>\n",
       "</table>\n",
       "</div>"
      ],
      "text/plain": [
       "  review_profilename  beer_beerid  review_time  review_overall\n",
       "0            stcules        47986   1234817823               3\n",
       "1            stcules        48213   1235915097               6\n",
       "2            stcules        48215   1235916604               6\n",
       "3            stcules        47969   1234725145               6\n",
       "4     johnmichaelsen        64883   1293735206               8"
      ]
     },
     "execution_count": 17,
     "metadata": {},
     "output_type": "execute_result"
    }
   ],
   "source": [
    "# Convert review ratings in beer reviews df from a scale of (0,5,.5) to a scale of (0,10,1)\n",
    "df['review_overall'] = df['review_overall']*2\n",
    "df['review_overall'] = df['review_overall'].astype(int)\n",
    "df.head()"
   ]
  },
  {
   "cell_type": "code",
   "execution_count": 18,
   "id": "af25bf99",
   "metadata": {},
   "outputs": [],
   "source": [
    "df.to_csv('formatted_beer_reviews.csv', index=False)"
   ]
  },
  {
   "cell_type": "markdown",
   "id": "b6cae4dd",
   "metadata": {},
   "source": [
    "# Explore Data\n",
    "\n",
    "Calculate the mean of all beer review scores"
   ]
  },
  {
   "cell_type": "code",
   "execution_count": 19,
   "id": "630d1647",
   "metadata": {},
   "outputs": [
    {
     "data": {
      "text/plain": [
       "7.631256044068271"
      ]
     },
     "execution_count": 19,
     "metadata": {},
     "output_type": "execute_result"
    }
   ],
   "source": [
    "df['review_overall'].mean()"
   ]
  },
  {
   "cell_type": "code",
   "execution_count": 20,
   "id": "e67eb4c4",
   "metadata": {},
   "outputs": [
    {
     "data": {
      "text/plain": [
       "1.4411896227439236"
      ]
     },
     "execution_count": 20,
     "metadata": {},
     "output_type": "execute_result"
    }
   ],
   "source": [
    "df['review_overall'].std()"
   ]
  },
  {
   "cell_type": "code",
   "execution_count": 21,
   "id": "7be14db9",
   "metadata": {},
   "outputs": [
    {
     "data": {
      "text/plain": [
       "8.0"
      ]
     },
     "execution_count": 21,
     "metadata": {},
     "output_type": "execute_result"
    }
   ],
   "source": [
    "df['review_overall'].median()"
   ]
  },
  {
   "cell_type": "code",
   "execution_count": 24,
   "id": "1f9c5e19",
   "metadata": {},
   "outputs": [
    {
     "name": "stderr",
     "output_type": "stream",
     "text": [
      "/var/folders/5j/c9vk68bx423f99hmd4hy32k80000gn/T/ipykernel_60838/2098384204.py:2: UserWarning: FixedFormatter should only be used together with FixedLocator\n",
      "  countplot.set_yticklabels(['0','10,000','20,000','30,000','40,000','50,000','60,000'])\n"
     ]
    },
    {
     "data": {
      "text/plain": [
       "Text(0.5, 1.0, 'Frequency Count by Review Score')"
      ]
     },
     "execution_count": 24,
     "metadata": {},
     "output_type": "execute_result"
    },
    {
     "data": {
      "image/png": "[encoded data removed]",
      "text/plain": [
       "<Figure size 640x480 with 1 Axes>"
      ]
     },
     "metadata": {},
     "output_type": "display_data"
    }
   ],
   "source": [
    "countplot = sns.countplot(x='review_overall',data=df)\n",
    "countplot.set_yticklabels(['0','10,000','20,000','30,000','40,000','50,000','60,000'])\n",
    "countplot.set_xlabel('Review Score')\n",
    "countplot.set_ylabel('Frequency Count')\n",
    "countplot.set_title('Frequency Count by Review Score')"
   ]
  },
  {
   "cell_type": "markdown",
   "id": "b57e48aa",
   "metadata": {},
   "source": [
    "Create a chart of the value counts of all beer review scores"
   ]
  },
  {
   "cell_type": "code",
   "execution_count": 25,
   "id": "308d42eb",
   "metadata": {},
   "outputs": [
    {
     "data": {
      "text/plain": [
       "review_overall\n",
       "0          7\n",
       "2      10954\n",
       "3      12973\n",
       "4      38207\n",
       "5      58486\n",
       "6     165583\n",
       "7     301750\n",
       "8     582684\n",
       "9     324323\n",
       "10     91299\n",
       "Name: review_profilename, dtype: int64"
      ]
     },
     "execution_count": 25,
     "metadata": {},
     "output_type": "execute_result"
    }
   ],
   "source": [
    "df.groupby('review_overall').count().iloc[:,0]"
   ]
  },
  {
   "cell_type": "markdown",
   "id": "ca5aadd4",
   "metadata": {},
   "source": [
    "Create a plot of the distribution of mean beer review scores across users"
   ]
  },
  {
   "cell_type": "code",
   "execution_count": 26,
   "id": "4442e9cd",
   "metadata": {},
   "outputs": [
    {
     "name": "stderr",
     "output_type": "stream",
     "text": [
      "/var/folders/5j/c9vk68bx423f99hmd4hy32k80000gn/T/ipykernel_60838/3378688831.py:2: UserWarning: \n",
      "\n",
      "`distplot` is a deprecated function and will be removed in seaborn v0.14.0.\n",
      "\n",
      "Please adapt your code to use either `displot` (a figure-level function with\n",
      "similar flexibility) or `histplot` (an axes-level function for histograms).\n",
      "\n",
      "For a guide to updating your code to use the new functions, please see\n",
      "https://gist.github.com/mwaskom/de44147ed2974457ad6372750bbe5751\n",
      "\n",
      "  sns.distplot(user_mean, kde=False, bins=9)\n"
     ]
    },
    {
     "data": {
      "text/plain": [
       "<Axes: xlabel='review_overall'>"
      ]
     },
     "execution_count": 26,
     "metadata": {},
     "output_type": "execute_result"
    },
    {
     "data": {
      "image/png": "[encoded data removed]",
      "text/plain": [
       "<Figure size 640x480 with 1 Axes>"
      ]
     },
     "metadata": {},
     "output_type": "display_data"
    }
   ],
   "source": [
    "user_mean = df.groupby('review_profilename').mean()['review_overall']\n",
    "sns.distplot(user_mean, kde=False, bins=9)"
   ]
  },
  {
   "cell_type": "markdown",
   "id": "a029c4d4",
   "metadata": {},
   "source": [
    "Create a plot of the distribution of mean beer review scores across beers"
   ]
  },
  {
   "cell_type": "code",
   "execution_count": 27,
   "id": "dd20b342",
   "metadata": {},
   "outputs": [
    {
     "name": "stderr",
     "output_type": "stream",
     "text": [
      "/var/folders/5j/c9vk68bx423f99hmd4hy32k80000gn/T/ipykernel_60838/313359156.py:1: FutureWarning: The default value of numeric_only in DataFrameGroupBy.mean is deprecated. In a future version, numeric_only will default to False. Either specify numeric_only or select only columns which should be valid for the function.\n",
      "  bear_mean = df.groupby('beer_beerid').mean()['review_overall']\n",
      "/var/folders/5j/c9vk68bx423f99hmd4hy32k80000gn/T/ipykernel_60838/313359156.py:2: UserWarning: \n",
      "\n",
      "`distplot` is a deprecated function and will be removed in seaborn v0.14.0.\n",
      "\n",
      "Please adapt your code to use either `displot` (a figure-level function with\n",
      "similar flexibility) or `histplot` (an axes-level function for histograms).\n",
      "\n",
      "For a guide to updating your code to use the new functions, please see\n",
      "https://gist.github.com/mwaskom/de44147ed2974457ad6372750bbe5751\n",
      "\n",
      "  sns.distplot(bear_mean, kde=False, bins=9)\n"
     ]
    },
    {
     "data": {
      "text/plain": [
       "<Axes: xlabel='review_overall'>"
      ]
     },
     "execution_count": 27,
     "metadata": {},
     "output_type": "execute_result"
    },
    {
     "data": {
      "image/png": "[encoded data removed]",
      "text/plain": [
       "<Figure size 640x480 with 1 Axes>"
      ]
     },
     "metadata": {},
     "output_type": "display_data"
    }
   ],
   "source": [
    "bear_mean = df.groupby('beer_beerid').mean()['review_overall']\n",
    "sns.distplot(bear_mean, kde=False, bins=9)"
   ]
  },
  {
   "cell_type": "markdown",
   "id": "070becfc",
   "metadata": {},
   "source": [
    "Calculate the descriptive statistics for number of reviews by user"
   ]
  },
  {
   "cell_type": "code",
   "execution_count": 28,
   "id": "30997cfa",
   "metadata": {},
   "outputs": [
    {
     "data": {
      "text/plain": [
       "count    33387.000000\n",
       "mean        47.511487\n",
       "std        182.599759\n",
       "min          1.000000\n",
       "25%          1.000000\n",
       "50%          3.000000\n",
       "75%         16.000000\n",
       "max       5817.000000\n",
       "Name: beer_beerid, dtype: float64"
      ]
     },
     "execution_count": 28,
     "metadata": {},
     "output_type": "execute_result"
    }
   ],
   "source": [
    "user_review_count = df.groupby('review_profilename').count().iloc[:,0]\n",
    "user_review_count.describe()"
   ]
  },
  {
   "cell_type": "markdown",
   "id": "3f90ddad",
   "metadata": {},
   "source": [
    "Calculate the descriptive statistics for number of reviews by beer"
   ]
  },
  {
   "cell_type": "code",
   "execution_count": 29,
   "id": "cc655e3d",
   "metadata": {},
   "outputs": [
    {
     "data": {
      "text/plain": [
       "count    66051.000000\n",
       "mean        24.015776\n",
       "std        110.838706\n",
       "min          1.000000\n",
       "25%          1.000000\n",
       "50%          2.000000\n",
       "75%          7.000000\n",
       "max       3289.000000\n",
       "Name: review_profilename, dtype: float64"
      ]
     },
     "execution_count": 29,
     "metadata": {},
     "output_type": "execute_result"
    }
   ],
   "source": [
    "beer_review_count = df.groupby('beer_beerid').count().iloc[:,0]\n",
    "beer_review_count.describe()"
   ]
  },
  {
   "cell_type": "markdown",
   "id": "795b0450",
   "metadata": {},
   "source": [
    "# Model Data"
   ]
  },
  {
   "cell_type": "markdown",
   "id": "1df1d4b5",
   "metadata": {},
   "source": [
    "Read formatted_beer_reviews csv file into Surprise"
   ]
  },
  {
   "cell_type": "code",
   "execution_count": 34,
   "id": "901df3d8",
   "metadata": {},
   "outputs": [],
   "source": [
    "reader = Reader(rating_scale=(0,10), line_format='user item timestamp rating', \n",
    "                sep = ',',skip_lines=1)\n",
    "dataset = Dataset.load_from_file('formatted_beer_reviews.csv', reader)\n",
    "trainset, testset = train_test_split(dataset, test_size=0.2, random_state = 71)"
   ]
  },
  {
   "cell_type": "markdown",
   "id": "134f754f",
   "metadata": {},
   "source": [
    "Calculate evaluation metrics for baseline model"
   ]
  },
  {
   "cell_type": "code",
   "execution_count": 35,
   "id": "eb60e7ef",
   "metadata": {},
   "outputs": [
    {
     "name": "stdout",
     "output_type": "stream",
     "text": [
      "MAE:  1.103270578412246\n",
      "RMSE:  2.0770262193231632\n"
     ]
    }
   ],
   "source": [
    "baseline_pred = np.array([df['review_overall'].mean()]*len(df['review_overall']))\n",
    "actuals = np.array(df['review_overall'])\n",
    "baseline_rmse = sum(np.square((baseline_pred-actuals)))/len(df['review_overall'])\n",
    "baseline_mae = sum(np.abs((baseline_pred-actuals)))/len(df['review_overall'])\n",
    "print('MAE: ', baseline_mae)\n",
    "print('RMSE: ', baseline_rmse)"
   ]
  },
  {
   "cell_type": "markdown",
   "id": "19e84b2d",
   "metadata": {},
   "source": [
    "Calculate evaluation metrics for knn model (k=1)"
   ]
  },
  {
   "cell_type": "code",
   "execution_count": 36,
   "id": "30322221",
   "metadata": {},
   "outputs": [
    {
     "name": "stdout",
     "output_type": "stream",
     "text": [
      "Computing the msd similarity matrix...\n",
      "Done computing similarity matrix.\n",
      "MAE:  1.2679\n",
      "RMSE: 1.7401\n"
     ]
    },
    {
     "data": {
      "text/plain": [
       "1.7401124714867655"
      ]
     },
     "execution_count": 36,
     "metadata": {},
     "output_type": "execute_result"
    }
   ],
   "source": [
    "knn = KNNBasic(k=1, verbose = True)\n",
    "knn.fit(trainset)\n",
    "knn_predictions = knn.test(testset)\n",
    "accuracy.mae(knn_predictions)\n",
    "accuracy.rmse(knn_predictions)"
   ]
  },
  {
   "cell_type": "markdown",
   "id": "c18aee92",
   "metadata": {},
   "source": [
    "Calculate evaluation metrics for knn model (k=10)"
   ]
  },
  {
   "cell_type": "code",
   "execution_count": 37,
   "id": "26f458c5",
   "metadata": {},
   "outputs": [
    {
     "name": "stdout",
     "output_type": "stream",
     "text": [
      "Computing the msd similarity matrix...\n",
      "Done computing similarity matrix.\n",
      "MAE:  0.9461\n",
      "RMSE: 1.2712\n"
     ]
    },
    {
     "data": {
      "text/plain": [
       "1.2712010880925555"
      ]
     },
     "execution_count": 37,
     "metadata": {},
     "output_type": "execute_result"
    }
   ],
   "source": [
    "knn = KNNBasic(k=20, verbose = True)\n",
    "knn.fit(trainset)\n",
    "knn_predictions = knn.test(testset)\n",
    "accuracy.mae(knn_predictions)\n",
    "accuracy.rmse(knn_predictions)"
   ]
  },
  {
   "cell_type": "markdown",
   "id": "190f9ef6",
   "metadata": {},
   "source": [
    "Calculate evaluation metrics for knn model (k=30)"
   ]
  },
  {
   "cell_type": "code",
   "execution_count": 38,
   "id": "89971ead",
   "metadata": {},
   "outputs": [
    {
     "name": "stdout",
     "output_type": "stream",
     "text": [
      "Computing the msd similarity matrix...\n",
      "Done computing similarity matrix.\n",
      "MAE:  0.9387\n",
      "RMSE: 1.2626\n"
     ]
    },
    {
     "data": {
      "text/plain": [
       "1.2625541391381911"
      ]
     },
     "execution_count": 38,
     "metadata": {},
     "output_type": "execute_result"
    }
   ],
   "source": [
    "knn = KNNBasic(k=30, verbose = True)\n",
    "knn.fit(trainset)\n",
    "knn_predictions = knn.test(testset)\n",
    "accuracy.mae(knn_predictions)\n",
    "accuracy.rmse(knn_predictions)"
   ]
  },
  {
   "cell_type": "markdown",
   "id": "17fa8bae",
   "metadata": {},
   "source": [
    "Calculate evaluation metrics for knn model (k=40)"
   ]
  },
  {
   "cell_type": "code",
   "execution_count": 39,
   "id": "4837886f",
   "metadata": {},
   "outputs": [
    {
     "name": "stdout",
     "output_type": "stream",
     "text": [
      "Computing the msd similarity matrix...\n",
      "Done computing similarity matrix.\n",
      "MAE:  0.9352\n",
      "RMSE: 1.2585\n"
     ]
    },
    {
     "data": {
      "text/plain": [
       "1.2584695805088943"
      ]
     },
     "execution_count": 39,
     "metadata": {},
     "output_type": "execute_result"
    }
   ],
   "source": [
    "knn = KNNBasic(k=40, verbose = True)\n",
    "knn.fit(trainset)\n",
    "knn_predictions = knn.test(testset)\n",
    "accuracy.mae(knn_predictions)\n",
    "accuracy.rmse(knn_predictions)"
   ]
  },
  {
   "cell_type": "markdown",
   "id": "9e29a1bd",
   "metadata": {},
   "source": [
    "Calculate evaluation metrics for svd model (factors=10)"
   ]
  },
  {
   "cell_type": "code",
   "execution_count": 40,
   "id": "4a20f60c",
   "metadata": {},
   "outputs": [
    {
     "name": "stdout",
     "output_type": "stream",
     "text": [
      "Processing epoch 0\n",
      "Processing epoch 1\n",
      "Processing epoch 2\n",
      "Processing epoch 3\n",
      "Processing epoch 4\n",
      "Processing epoch 5\n",
      "Processing epoch 6\n",
      "Processing epoch 7\n",
      "Processing epoch 8\n",
      "Processing epoch 9\n",
      "MAE:  0.9073\n",
      "RMSE: 1.2130\n"
     ]
    },
    {
     "data": {
      "text/plain": [
       "1.2130108025454982"
      ]
     },
     "execution_count": 40,
     "metadata": {},
     "output_type": "execute_result"
    }
   ],
   "source": [
    "svd = SVD(n_factors=10, n_epochs=10, verbose = True)\n",
    "svd.fit(trainset)\n",
    "svd_predictions = svd.test(testset)\n",
    "accuracy.mae(svd_predictions)\n",
    "accuracy.rmse(svd_predictions)"
   ]
  },
  {
   "cell_type": "markdown",
   "id": "4eaaeb84",
   "metadata": {},
   "source": [
    "Calculate evaluation metrics for svd model (factors=20)"
   ]
  },
  {
   "cell_type": "code",
   "execution_count": 41,
   "id": "5f094d98",
   "metadata": {},
   "outputs": [
    {
     "name": "stdout",
     "output_type": "stream",
     "text": [
      "Processing epoch 0\n",
      "Processing epoch 1\n",
      "Processing epoch 2\n",
      "Processing epoch 3\n",
      "Processing epoch 4\n",
      "Processing epoch 5\n",
      "Processing epoch 6\n",
      "Processing epoch 7\n",
      "Processing epoch 8\n",
      "Processing epoch 9\n",
      "MAE:  0.9066\n",
      "RMSE: 1.2123\n"
     ]
    },
    {
     "data": {
      "text/plain": [
       "1.212304354148149"
      ]
     },
     "execution_count": 41,
     "metadata": {},
     "output_type": "execute_result"
    }
   ],
   "source": [
    "svd = SVD(n_factors=20, n_epochs=10, verbose = True)\n",
    "svd.fit(trainset)\n",
    "svd_predictions = svd.test(testset)\n",
    "accuracy.mae(svd_predictions)\n",
    "accuracy.rmse(svd_predictions)"
   ]
  },
  {
   "cell_type": "markdown",
   "id": "858d4260",
   "metadata": {},
   "source": [
    "Calculate evaluation metrics for svd model (factors=15)"
   ]
  },
  {
   "cell_type": "code",
   "execution_count": 42,
   "id": "3ea42395",
   "metadata": {},
   "outputs": [
    {
     "name": "stdout",
     "output_type": "stream",
     "text": [
      "Processing epoch 0\n",
      "Processing epoch 1\n",
      "Processing epoch 2\n",
      "Processing epoch 3\n",
      "Processing epoch 4\n",
      "Processing epoch 5\n",
      "Processing epoch 6\n",
      "Processing epoch 7\n",
      "Processing epoch 8\n",
      "Processing epoch 9\n",
      "MAE:  0.9063\n",
      "RMSE: 1.2122\n"
     ]
    },
    {
     "data": {
      "text/plain": [
       "1.212243458448613"
      ]
     },
     "execution_count": 42,
     "metadata": {},
     "output_type": "execute_result"
    }
   ],
   "source": [
    "svd = SVD(n_factors=15, n_epochs=10, verbose = True)\n",
    "svd.fit(trainset)\n",
    "svd_predictions = svd.test(testset)\n",
    "accuracy.mae(svd_predictions)\n",
    "accuracy.rmse(svd_predictions)"
   ]
  },
  {
   "cell_type": "markdown",
   "id": "3f53e666",
   "metadata": {},
   "source": [
    "\n",
    "Calculate evaluation metrics for svd model (factors=25)"
   ]
  },
  {
   "cell_type": "code",
   "execution_count": 43,
   "id": "50127ac9",
   "metadata": {},
   "outputs": [
    {
     "name": "stdout",
     "output_type": "stream",
     "text": [
      "Processing epoch 0\n",
      "Processing epoch 1\n",
      "Processing epoch 2\n",
      "Processing epoch 3\n",
      "Processing epoch 4\n",
      "Processing epoch 5\n",
      "Processing epoch 6\n",
      "Processing epoch 7\n",
      "Processing epoch 8\n",
      "Processing epoch 9\n",
      "MAE:  0.9069\n",
      "RMSE: 1.2127\n"
     ]
    },
    {
     "data": {
      "text/plain": [
       "1.2127262458750865"
      ]
     },
     "execution_count": 43,
     "metadata": {},
     "output_type": "execute_result"
    }
   ],
   "source": [
    "svd = SVD(n_factors=25, n_epochs=10, verbose = True)\n",
    "svd.fit(trainset)\n",
    "svd_predictions = svd.test(testset)\n",
    "accuracy.mae(svd_predictions)\n",
    "accuracy.rmse(svd_predictions)"
   ]
  },
  {
   "cell_type": "code",
   "execution_count": null,
   "id": "c98ffa70",
   "metadata": {},
   "outputs": [],
   "source": []
  }
 ],
 "metadata": {
  "kernelspec": {
   "display_name": "Python 3 (ipykernel)",
   "language": "python",
   "name": "python3"
  },
  "language_info": {
   "codemirror_mode": {
    "name": "ipython",
    "version": 3
   },
   "file_extension": ".py",
   "mimetype": "text/x-python",
   "name": "python",
   "nbconvert_exporter": "python",
   "pygments_lexer": "ipython3",
   "version": "3.11.4"
  }
 },
 "nbformat": 4,
 "nbformat_minor": 5
}
